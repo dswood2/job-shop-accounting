{
 "cells": [
  {
   "cell_type": "code",
   "execution_count": 1,
   "metadata": {
    "ExecuteTime": {
     "end_time": "2024-06-19T04:13:49.655110300Z",
     "start_time": "2024-06-19T04:13:49.634171700Z"
    },
    "azdata_cell_guid": "17900a62-5772-4874-90f8-1138823a9698",
    "language": "sql"
   },
   "outputs": [
    {
     "ename": "SyntaxError",
     "evalue": "invalid syntax (2805146433.py, line 1)",
     "output_type": "error",
     "traceback": [
      "\u001b[1;36m  Cell \u001b[1;32mIn[1], line 1\u001b[1;36m\u001b[0m\n\u001b[1;33m    -- Drop Query 1 Procedure\u001b[0m\n\u001b[1;37m            ^\u001b[0m\n\u001b[1;31mSyntaxError\u001b[0m\u001b[1;31m:\u001b[0m invalid syntax\n"
     ]
    }
   ],
   "source": [
    "-- Drop Query 1 Procedure\n",
    "DROP PROCEDURE IF EXISTS dbo.InsertCustomer;\n",
    "\n",
    "-- Drop Query 2 Procedure\n",
    "DROP PROCEDURE IF EXISTS dbo.InsertDepartment;\n",
    "\n",
    "-- Drop Query 3 Procedure\n",
    "DROP PROCEDURE IF EXISTS dbo.InsertNewProcess;\n",
    "DROP PROCEDURE IF EXISTS dbo.InsertNewPaintProcess;\n",
    "DROP PROCEDURE IF EXISTS dbo.InsertNewFitProcess;\n",
    "DROP PROCEDURE IF EXISTS dbo.InsertNewCutProcess;\n",
    "\n",
    "-- Drop Query 4 Procedure\n",
    "DROP PROCEDURE IF EXISTS dbo.InsertNewAssemblyWithOptionalProcess;\n",
    "\n",
    "--Drop Query 5 Procedure\n",
    "DROP PROCEDURE IF EXISTS dbo.InsertNewAccountWithType;\n",
    "\n",
    "-- Drop Query 6 Procedure\n",
    "DROP PROCEDURE IF EXISTS dbo.InsertNewJob;\n",
    "\n",
    "-- Drop Query 7 Procedure\n",
    "DROP PROCEDURE IF EXISTS dbo.UpdateJobCompletionDetails;\n",
    "DROP PROCEDURE IF EXISTS dbo.InsertOrUpdatePaintJobDetails;\n",
    "DROP PROCEDURE IF EXISTS dbo.InsertOrUpdateFitJobDetails;\n",
    "DROP PROCEDURE IF EXISTS dbo.InsertOrUpdateCutJobDetails;\n",
    "\n",
    "-- Drop Query 8 Procedure\n",
    "DROP PROCEDURE IF EXISTS dbo.UpdateAccountDetailsWithTransaction;\n",
    "\n",
    "-- Drop Query 9 Procedure\n",
    "DROP PROCEDURE IF EXISTS dbo.RetrieveTotalCostForAssembly;\n",
    "\n",
    "-- Drop Query 10 Procedure\n",
    "DROP PROCEDURE IF EXISTS dbo.RetrieveTotalLaborTimeInDepartment;\n",
    "\n",
    "-- Drop Query 11 Procedure\n",
    "DROP PROCEDURE IF EXISTS dbo.RetrieveProcessesForAssembly;\n",
    "\n",
    "-- Drop Query 12 Procedure\n",
    "DROP PROCEDURE IF EXISTS dbo.RetrieveCustomerNamesByCategoryRange;\n",
    "\n",
    "-- Drop Query 13 Procedure\n",
    "DROP PROCEDURE IF EXISTS dbo.DeleteCutJobsByJobNumberRange;\n",
    "\n",
    "-- Drop Query 14 Procedure\n",
    "DROP PROCEDURE IF EXISTS dbo.UpdatePaintJobColor;\n"
   ]
  },
  {
   "cell_type": "code",
   "execution_count": 50,
   "metadata": {
    "azdata_cell_guid": "96506276-956f-488c-851b-d10ee0010b25",
    "language": "sql"
   },
   "outputs": [
    {
     "data": {
      "text/html": [
       "Commands completed successfully."
      ]
     },
     "metadata": {},
     "output_type": "display_data"
    },
    {
     "data": {
      "text/html": [
       "Commands completed successfully."
      ]
     },
     "metadata": {},
     "output_type": "display_data"
    },
    {
     "data": {
      "text/html": [
       "Total execution time: 00:00:00.116"
      ]
     },
     "metadata": {},
     "output_type": "display_data"
    }
   ],
   "source": [
    "-- Create the stored procedure for Query 1\n",
    "GO\n",
    "CREATE PROCEDURE InsertCustomer(\n",
    "    @customer_name VARCHAR(50),\n",
    "    @customer_address VARCHAR(50),\n",
    "    @category INT\n",
    ")\n",
    "AS\n",
    "BEGIN\n",
    "    -- Insert a new customer\n",
    "    INSERT INTO Customer (customer_name, customer_address, category)\n",
    "    VALUES (@customer_name, @customer_address, @category);\n",
    "END;\n"
   ]
  },
  {
   "cell_type": "code",
   "execution_count": 51,
   "metadata": {
    "azdata_cell_guid": "153094ac-6128-4e67-ae1a-46e5c8ff6c73",
    "language": "sql"
   },
   "outputs": [
    {
     "data": {
      "text/html": [
       "Commands completed successfully."
      ]
     },
     "metadata": {},
     "output_type": "display_data"
    },
    {
     "data": {
      "text/html": [
       "Commands completed successfully."
      ]
     },
     "metadata": {},
     "output_type": "display_data"
    },
    {
     "data": {
      "text/html": [
       "Total execution time: 00:00:00.114"
      ]
     },
     "metadata": {},
     "output_type": "display_data"
    }
   ],
   "source": [
    "-- Create the stored procedure for Query 2\n",
    "GO\n",
    "CREATE PROCEDURE InsertDepartment(\n",
    "    @department_number INT,\n",
    "    @department_data VARCHAR(50)\n",
    ")\n",
    "AS\n",
    "BEGIN\n",
    "    -- Insert a new department\n",
    "    INSERT INTO Department (department_number, department_data)\n",
    "    VALUES (@department_number, @department_data);\n",
    "END;\n"
   ]
  },
  {
   "cell_type": "code",
   "execution_count": 52,
   "metadata": {
    "azdata_cell_guid": "caa2f62e-1a5d-4f03-b323-eb1bcb09585d",
    "language": "sql"
   },
   "outputs": [
    {
     "data": {
      "text/html": [
       "Commands completed successfully."
      ]
     },
     "metadata": {},
     "output_type": "display_data"
    },
    {
     "data": {
      "text/html": [
       "Commands completed successfully."
      ]
     },
     "metadata": {},
     "output_type": "display_data"
    },
    {
     "data": {
      "text/html": [
       "Commands completed successfully."
      ]
     },
     "metadata": {},
     "output_type": "display_data"
    },
    {
     "data": {
      "text/html": [
       "Commands completed successfully."
      ]
     },
     "metadata": {},
     "output_type": "display_data"
    },
    {
     "data": {
      "text/html": [
       "Commands completed successfully."
      ]
     },
     "metadata": {},
     "output_type": "display_data"
    },
    {
     "data": {
      "text/html": [
       "Total execution time: 00:00:00.302"
      ]
     },
     "metadata": {},
     "output_type": "display_data"
    }
   ],
   "source": [
    "-- Create the stored procedure for Query 3\n",
    "GO\n",
    "CREATE PROCEDURE InsertNewProcess(\n",
    "    @process_id INT,\n",
    "    @process_data VARCHAR(50),\n",
    "    @department_number INT\n",
    ")\n",
    "AS\n",
    "BEGIN\n",
    "    -- Insert a new process\n",
    "    INSERT INTO Process (process_id, process_data, department_number)\n",
    "    VALUES (@process_id, @process_data, @department_number);\n",
    "END;\n",
    "\n",
    "GO\n",
    "CREATE PROCEDURE InsertNewPaintProcess(\n",
    "    @process_id INT,\n",
    "    @paint_type VARCHAR(50),\n",
    "    @painting_method VARCHAR(50)\n",
    ")\n",
    "AS\n",
    "BEGIN\n",
    "    -- Insert into Paint_process\n",
    "    INSERT INTO Paint_process (process_id, paint_type, painting_method)\n",
    "    VALUES (@process_id, @paint_type, @painting_method);\n",
    "END;\n",
    "\n",
    "GO\n",
    "CREATE PROCEDURE InsertNewFitProcess(\n",
    "    @process_id INT,\n",
    "    @fit_type VARCHAR(50)\n",
    ")\n",
    "AS\n",
    "BEGIN\n",
    "    -- Insert into Fit_process\n",
    "    INSERT INTO Fit_process (process_id, fit_type)\n",
    "    VALUES (@process_id, @fit_type);\n",
    "END;\n",
    "\n",
    "GO\n",
    "CREATE PROCEDURE InsertNewCutProcess(\n",
    "    @process_id INT,\n",
    "    @cutting_type VARCHAR(50),\n",
    "    @machine_type VARCHAR(50)\n",
    ")\n",
    "AS\n",
    "BEGIN\n",
    "    -- Insert into Cut_process\n",
    "    INSERT INTO Cut_process (process_id, cutting_type, machine_type)\n",
    "    VALUES (@process_id, @cutting_type, @machine_type);\n",
    "END;\n"
   ]
  },
  {
   "cell_type": "code",
   "execution_count": 67,
   "metadata": {
    "azdata_cell_guid": "e9fc7d78-2660-4cce-8afa-d8679247efdb",
    "language": "sql",
    "tags": []
   },
   "outputs": [
    {
     "data": {
      "text/html": [
       "Commands completed successfully."
      ]
     },
     "metadata": {},
     "output_type": "display_data"
    },
    {
     "data": {
      "text/html": [
       "Total execution time: 00:00:00.066"
      ]
     },
     "metadata": {},
     "output_type": "display_data"
    }
   ],
   "source": [
    "DROP PROCEDURE [InsertNewAssembly]\n",
    "DROP PROCEDURE [ConnectAssemblyToProcesses]"
   ]
  },
  {
   "cell_type": "code",
   "execution_count": 69,
   "metadata": {
    "azdata_cell_guid": "3712f093-f41a-45d3-8438-2e3d34cd529b",
    "language": "sql"
   },
   "outputs": [
    {
     "data": {
      "text/html": [
       "Commands completed successfully."
      ]
     },
     "metadata": {},
     "output_type": "display_data"
    },
    {
     "ename": "",
     "evalue": "Msg 2714, Level 16, State 3, Procedure InsertNewAssembly, Line 1\r\nThere is already an object named 'InsertNewAssembly' in the database.",
     "output_type": "error",
     "traceback": []
    },
    {
     "ename": "",
     "evalue": "Msg 2714, Level 16, State 3, Procedure ConnectAssemblyToProcesses, Line 1\r\nThere is already an object named 'ConnectAssemblyToProcesses' in the database.",
     "output_type": "error",
     "traceback": []
    },
    {
     "data": {
      "text/html": [
       "Total execution time: 00:00:00.568"
      ]
     },
     "metadata": {},
     "output_type": "display_data"
    }
   ],
   "source": [
    "-- Create the stored procedure for Query 4\n",
    "GO\n",
    "CREATE PROCEDURE InsertNewAssembly(\n",
    "    @assembly_id INT,\n",
    "    @date_ordered DATE,\n",
    "    @assembly_details VARCHAR(50),\n",
    "    @customer_name VARCHAR(50)\n",
    ")\n",
    "AS\n",
    "BEGIN\n",
    "    -- Insert a new assembly\n",
    "    INSERT INTO Assembly (assembly_id, date_ordered, assembly_details, customer_name)\n",
    "    VALUES (@assembly_id, @date_ordered, @assembly_details, @customer_name);\n",
    "END;\n",
    "\n",
    "GO\n",
    "CREATE PROCEDURE ConnectAssemblyToProcesses(\n",
    "    @assembly_id INT,\n",
    "    @process_id INT\n",
    ")\n",
    "AS\n",
    "BEGIN\n",
    "  IF @process_id IS NOT NULL AND EXISTS (SELECT 1 FROM Process WHERE process_id = @process_id)\n",
    "    BEGIN\n",
    "        INSERT INTO Start_manufacturing (assembly_id, process_id)\n",
    "        VALUES (@assembly_id, @process_id);\n",
    "    END\n",
    "    ELSE\n",
    "        BEGIN\n",
    "            -- Process Table is empty\n",
    "            THROW 50000, 'Process Table is empty. Please provide a valid process_id or add processes to the table.', 1;\n",
    "        END;\n",
    "    END;\n"
   ]
  },
  {
   "cell_type": "code",
   "execution_count": 54,
   "metadata": {
    "azdata_cell_guid": "944b4baa-e83b-463c-b2db-6e6297203427",
    "language": "sql"
   },
   "outputs": [
    {
     "data": {
      "text/html": [
       "Commands completed successfully."
      ]
     },
     "metadata": {},
     "output_type": "display_data"
    },
    {
     "data": {
      "text/html": [
       "Commands completed successfully."
      ]
     },
     "metadata": {},
     "output_type": "display_data"
    },
    {
     "data": {
      "text/html": [
       "Total execution time: 00:00:00.116"
      ]
     },
     "metadata": {},
     "output_type": "display_data"
    }
   ],
   "source": [
    "-- Create the stored procedure for Query 5\n",
    "GO\n",
    "-- Create the stored procedure for entering a new account with error messages and flexible account type\n",
    "CREATE PROCEDURE InsertNewAccountWithType(\n",
    "    @account_number INT,\n",
    "    @date_created DATE,\n",
    "    @details FLOAT,\n",
    "    @account_type VARCHAR(20), -- 'Assembly', 'Department', or 'Process'\n",
    "    @process_id INT = NULL,\n",
    "    @assembly_id INT = NULL,\n",
    "    @department_number INT = NULL\n",
    ")\n",
    "AS\n",
    "BEGIN\n",
    "    -- Insert into the corresponding account table based on the account type\n",
    "    IF @account_type = 'Process' \n",
    "    BEGIN\n",
    "        -- Insert into Process_account\n",
    "        INSERT INTO Process_account (account_number, date_created, details_3)\n",
    "        VALUES (@account_number, @date_created, @details);\n",
    "    END\n",
    "    ELSE IF @account_type = 'Assembly' \n",
    "    BEGIN\n",
    "        -- Insert into Assembly_account\n",
    "        INSERT INTO Assembly_account (account_number, date_created, details_1)\n",
    "        VALUES (@account_number, @date_created, @details);\n",
    "    END\n",
    "    ELSE IF @account_type = 'Department' \n",
    "    BEGIN\n",
    "        -- Insert into Department_account\n",
    "        INSERT INTO Department_account (account_number, date_created, details_2)\n",
    "        VALUES (@account_number, @date_created, @details);\n",
    "    END\n",
    "    ELSE\n",
    "    BEGIN\n",
    "        -- Invalid account type\n",
    "        THROW 50000, 'Invalid account type. Please provide a valid account type (Assembly, Department, or Process).', 1;\n",
    "    END;\n",
    "\n",
    "    -- Associate the account with a specific process, assembly, or department\n",
    "    IF @account_type = 'Process' AND @process_id IS NOT NULL AND EXISTS (SELECT 1 FROM Process WHERE process_id = @process_id) \n",
    "    BEGIN\n",
    "        -- Insert into P_has\n",
    "        INSERT INTO P_has (account_number, process_id)\n",
    "        VALUES (@account_number, @process_id);\n",
    "    END\n",
    "    ELSE IF @account_type = 'Assembly' AND @assembly_id IS NOT NULL AND EXISTS (SELECT 1 FROM Assembly WHERE assembly_id = @assembly_id) \n",
    "    BEGIN\n",
    "        -- Insert into A_has\n",
    "        INSERT INTO A_has (account_number, assembly_id)\n",
    "        VALUES (@account_number, @assembly_id);\n",
    "    END\n",
    "    ELSE IF @account_type = 'Department' AND @department_number IS NOT NULL AND EXISTS (SELECT 1 FROM Department WHERE department_number = @department_number) \n",
    "    BEGIN\n",
    "        -- Insert into D_has\n",
    "        INSERT INTO D_has (account_number, department_number)\n",
    "        VALUES (@account_number, @department_number);\n",
    "    END\n",
    "    ELSE\n",
    "    BEGIN\n",
    "        -- Invalid association or account type\n",
    "        THROW 50000, 'Invalid association or account type. Please provide valid associations and account type.', 1;\n",
    "    END;\n",
    "END;\n"
   ]
  },
  {
   "cell_type": "code",
   "execution_count": 71,
   "metadata": {
    "azdata_cell_guid": "ce019db0-6c3c-488e-9d13-074ba97b366e",
    "language": "sql"
   },
   "outputs": [
    {
     "data": {
      "text/html": [
       "Commands completed successfully."
      ]
     },
     "metadata": {},
     "output_type": "display_data"
    },
    {
     "data": {
      "text/html": [
       "Total execution time: 00:00:00.085"
      ]
     },
     "metadata": {},
     "output_type": "display_data"
    }
   ],
   "source": [
    "DROP PROCEDURE [InsertNewJob]"
   ]
  },
  {
   "cell_type": "code",
   "execution_count": 72,
   "metadata": {
    "azdata_cell_guid": "0c317022-c114-46cd-bee4-e4ae357f755a",
    "language": "sql"
   },
   "outputs": [
    {
     "data": {
      "text/html": [
       "Commands completed successfully."
      ]
     },
     "metadata": {},
     "output_type": "display_data"
    },
    {
     "data": {
      "text/html": [
       "Commands completed successfully."
      ]
     },
     "metadata": {},
     "output_type": "display_data"
    },
    {
     "data": {
      "text/html": [
       "Total execution time: 00:00:00.107"
      ]
     },
     "metadata": {},
     "output_type": "display_data"
    }
   ],
   "source": [
    "-- Create the stored procedure for Query 6\n",
    "GO\n",
    "CREATE PROCEDURE InsertNewJob(\n",
    "    @job_number INT,\n",
    "    @commenced_date DATE,\n",
    "    @assembly_id INT,\n",
    "    @process_id INT\n",
    ")\n",
    "AS\n",
    "BEGIN\n",
    "    -- Check if the assembly_id exists\n",
    "    IF NOT EXISTS (SELECT 1 FROM Assembly WHERE assembly_id = @assembly_id)\n",
    "    BEGIN\n",
    "        THROW 50000, 'Invalid assembly_id. Please provide a valid assembly_id.', 1;\n",
    "    END;\n",
    "\n",
    "    -- Check if the process_id exists\n",
    "    IF NOT EXISTS (SELECT 1 FROM Process WHERE process_id = @process_id)\n",
    "    BEGIN\n",
    "        THROW 50000, 'Invalid process_id. Please provide a valid process_id.', 1;\n",
    "    END;\n",
    "\n",
    "    -- Check if the assembly_id and process_id are associated in Start_manufacturing\n",
    "    IF NOT EXISTS (\n",
    "        SELECT 1\n",
    "        FROM Start_manufacturing\n",
    "        WHERE assembly_id = @assembly_id\n",
    "        AND process_id = @process_id\n",
    "    )\n",
    "    BEGIN\n",
    "        -- Assembly and process are not associated\n",
    "        THROW 50000, 'The specified assembly_id and process_id are not associated in Start_manufacturing. Please associate them before creating a job.', 1;\n",
    "    END;\n",
    "\n",
    "    -- Insert into Job table\n",
    "    INSERT INTO Job (job_number, commenced_date)\n",
    "    VALUES (@job_number, @commenced_date);\n",
    "    \n",
    "    -- Update the job_number in Start_manufacturing\n",
    "    UPDATE Start_manufacturing\n",
    "    SET job_number = @job_number\n",
    "    WHERE assembly_id = @assembly_id\n",
    "    AND process_id = @process_id;\n",
    "\n",
    "    \n",
    "END;\n"
   ]
  },
  {
   "cell_type": "code",
   "execution_count": 56,
   "metadata": {
    "azdata_cell_guid": "b8c2b220-4795-4a9f-800f-8cf7d8b0499e",
    "language": "sql"
   },
   "outputs": [
    {
     "data": {
      "text/html": [
       "Commands completed successfully."
      ]
     },
     "metadata": {},
     "output_type": "display_data"
    },
    {
     "data": {
      "text/html": [
       "Commands completed successfully."
      ]
     },
     "metadata": {},
     "output_type": "display_data"
    },
    {
     "data": {
      "text/html": [
       "Commands completed successfully."
      ]
     },
     "metadata": {},
     "output_type": "display_data"
    },
    {
     "data": {
      "text/html": [
       "Commands completed successfully."
      ]
     },
     "metadata": {},
     "output_type": "display_data"
    },
    {
     "data": {
      "text/html": [
       "Total execution time: 00:00:00.247"
      ]
     },
     "metadata": {},
     "output_type": "display_data"
    }
   ],
   "source": [
    "GO\n",
    "-- Create the stored procedure for Query 7 (Update Job Table)\n",
    "CREATE PROCEDURE UpdateJobCompletionDetails(\n",
    "    @job_number INT,\n",
    "    @complete_date DATE,\n",
    "    @job_detail VARCHAR(50)\n",
    ")\n",
    "AS\n",
    "BEGIN\n",
    "    -- Check if the job_number exists in the Job table\n",
    "    IF NOT EXISTS (SELECT 1 FROM Job WHERE job_number = @job_number)\n",
    "    BEGIN\n",
    "        THROW 50000, 'Invalid job_number. Please provide a valid job_number.', 1;\n",
    "    END;\n",
    "\n",
    "    -- Update the completion details in the Job table\n",
    "    UPDATE Job\n",
    "    SET complete_date = @complete_date,\n",
    "        job_detail = @job_detail\n",
    "    WHERE job_number = @job_number;\n",
    "END;\n",
    "\n",
    "GO\n",
    "-- Create the stored procedure for updating Paint_job details\n",
    "CREATE PROCEDURE InsertOrUpdatePaintJobDetails(\n",
    "    @job_number INT,\n",
    "    @color VARCHAR(50),\n",
    "    @volume INT,\n",
    "    @labor_time INT\n",
    ")\n",
    "AS\n",
    "BEGIN\n",
    "    -- Insert new row\n",
    "    INSERT INTO Paint_job (job_number, color, volume, labor_time)\n",
    "    VALUES (@job_number, @color, @volume, @labor_time);\n",
    "END;\n",
    "\n",
    "GO\n",
    "-- Create the stored procedure for updating Fit_job details\n",
    "CREATE PROCEDURE InsertOrUpdateFitJobDetails(\n",
    "    @job_number INT,\n",
    "    @labor_time INT\n",
    ")\n",
    "AS\n",
    "BEGIN\n",
    "    -- Insert new row\n",
    "    INSERT INTO Fit_job (job_number, labor_time)\n",
    "    VALUES (@job_number, @labor_time);\n",
    "END;\n",
    "\n",
    "GO\n",
    "-- Create the stored procedure for updating Cut_job details\n",
    "CREATE PROCEDURE InsertOrUpdateCutJobDetails(\n",
    "    @job_number INT,\n",
    "    @type_of_machine VARCHAR(50),\n",
    "    @time_used INT,\n",
    "    @material_used VARCHAR(50),\n",
    "    @labor_time INT\n",
    ")\n",
    "AS\n",
    "BEGIN\n",
    "    -- Insert new row\n",
    "    INSERT INTO Cut_job (job_number, type_of_machine, time_used, material_used, labor_time)\n",
    "    VALUES (@job_number, @type_of_machine, @time_used, @material_used, @labor_time);\n",
    "END;\n"
   ]
  },
  {
   "cell_type": "code",
   "execution_count": 4,
   "metadata": {
    "azdata_cell_guid": "6e4b69ba-4d96-456a-9b54-f94ab77dbc67",
    "language": "sql"
   },
   "outputs": [
    {
     "data": {
      "text/html": [
       "Commands completed successfully."
      ]
     },
     "metadata": {},
     "output_type": "display_data"
    },
    {
     "data": {
      "text/html": [
       "Total execution time: 00:00:00.068"
      ]
     },
     "metadata": {},
     "output_type": "display_data"
    }
   ],
   "source": [
    "CREATE PROCEDURE UpdateAccountDetailsWithTransaction (\n",
    "    @transaction_id INT,\n",
    "    @transaction_cost FLOAT,\n",
    "    @job_number INT\n",
    ")\n",
    "AS\n",
    "BEGIN\n",
    "    DECLARE @department_account_number INT,\n",
    "            @assembly_account_number INT,\n",
    "            @process_account_number INT,\n",
    "            @department_number INT;\n",
    "\n",
    "    -- Find the corresponding accounts based on the job_number\n",
    "    SELECT \n",
    "        @assembly_account_number = A.account_number,\n",
    "        @process_account_number = P.account_number\n",
    "    FROM Start_manufacturing S\n",
    "    LEFT JOIN A_has A ON S.assembly_id = A.assembly_id\n",
    "    LEFT JOIN P_has P ON S.process_id = P.process_id\n",
    "    WHERE S.job_number = @job_number;\n",
    "\n",
    "    IF @assembly_account_number IS NOT NULL AND @process_account_number IS NOT NULL\n",
    "    BEGIN\n",
    "        -- Update Assembly_account details\n",
    "        UPDATE Assembly_account\n",
    "        SET details_1 = details_1 + @transaction_cost\n",
    "        WHERE account_number = @assembly_account_number;\n",
    "\n",
    "        -- Update Process_account details\n",
    "        UPDATE Process_account\n",
    "        SET details_3 = details_3 + @transaction_cost\n",
    "        WHERE account_number = @process_account_number;\n",
    "\n",
    "        -- Find department_number based on the process_id\n",
    "        SELECT @department_number = department_number\n",
    "        FROM Process\n",
    "        WHERE process_id = (SELECT process_id FROM Start_manufacturing WHERE job_number = @job_number);\n",
    "\n",
    "        IF @department_number IS NOT NULL\n",
    "        BEGIN\n",
    "            -- Set department_account_number\n",
    "            SET @department_account_number = (SELECT account_number FROM D_has WHERE department_number = @department_number);\n",
    "\n",
    "            IF @department_account_number IS NOT NULL\n",
    "            BEGIN\n",
    "                -- Update Department_account details\n",
    "                UPDATE Department_account\n",
    "                SET details_2 = details_2 + @transaction_cost\n",
    "                WHERE account_number = @department_account_number;\n",
    "\n",
    "                -- Insert into Transactions table\n",
    "                INSERT INTO Transactions (transaction_id, transaction_cost, job_number, assembly_account_number, process_account_number, department_account_number)\n",
    "                VALUES (@transaction_id, @transaction_cost, @job_number, @assembly_account_number, @process_account_number, @department_account_number);\n",
    "            END\n",
    "            ELSE\n",
    "            BEGIN\n",
    "                THROW 50000, 'No matching department_account_number found for the specified job_number.', 1;\n",
    "            END;\n",
    "        END\n",
    "        ELSE\n",
    "        BEGIN\n",
    "            THROW 50000, 'No matching department_number found for the specified job_number.', 1;\n",
    "        END;\n",
    "    END\n",
    "    ELSE\n",
    "    BEGIN\n",
    "        THROW 50000, 'No matching assembly_id and process_id found for the specified job_number.', 1;\n",
    "    END;\n",
    "END;\n"
   ]
  },
  {
   "cell_type": "code",
   "execution_count": 7,
   "metadata": {
    "azdata_cell_guid": "6d360edd-567c-44dd-96e1-a43403aa9c4c",
    "language": "sql"
   },
   "outputs": [
    {
     "data": {
      "text/html": [
       "Commands completed successfully."
      ]
     },
     "metadata": {},
     "output_type": "display_data"
    },
    {
     "data": {
      "text/html": [
       "Commands completed successfully."
      ]
     },
     "metadata": {},
     "output_type": "display_data"
    },
    {
     "data": {
      "text/html": [
       "Total execution time: 00:00:00.113"
      ]
     },
     "metadata": {},
     "output_type": "display_data"
    }
   ],
   "source": [
    "-- Create the stored procedure for Query 9\n",
    "GO\n",
    "CREATE PROCEDURE RetrieveTotalCostForAssembly(\n",
    "    @assembly_id INT\n",
    ")\n",
    "AS\n",
    "BEGIN\n",
    "    DECLARE @account_number INT;\n",
    "\n",
    "    -- Find the account_number for the specified assembly_id in A_has\n",
    "    SELECT @account_number = account_number\n",
    "    FROM A_has\n",
    "    WHERE assembly_id = @assembly_id;\n",
    "\n",
    "    -- Check if account_number was found\n",
    "    IF @account_number IS NOT NULL\n",
    "    BEGIN\n",
    "        -- Use the account_number to retrieve details_1 from Assembly_account and directly output the result\n",
    "        SELECT details_1\n",
    "        FROM Assembly_account\n",
    "        WHERE account_number = @account_number;\n",
    "    END\n",
    "    ELSE\n",
    "    BEGIN\n",
    "        -- No matching assembly_id found in A_has\n",
    "        THROW 50000, 'No matching assembly_id found in A_has.', 1;\n",
    "    END;\n",
    "END;\n"
   ]
  },
  {
   "cell_type": "code",
   "execution_count": 11,
   "metadata": {
    "azdata_cell_guid": "d2c9d482-5442-4dca-88a0-a24d69cc0d38",
    "language": "sql"
   },
   "outputs": [
    {
     "data": {
      "text/html": [
       "Commands completed successfully."
      ]
     },
     "metadata": {},
     "output_type": "display_data"
    },
    {
     "data": {
      "text/html": [
       "Commands completed successfully."
      ]
     },
     "metadata": {},
     "output_type": "display_data"
    },
    {
     "data": {
      "text/html": [
       "Total execution time: 00:00:00.117"
      ]
     },
     "metadata": {},
     "output_type": "display_data"
    }
   ],
   "source": [
    "-- Create the stored procedure for Query 10\n",
    "GO\n",
    "CREATE PROCEDURE RetrieveTotalLaborTimeInDepartment(\n",
    "    @department_number INT,\n",
    "    @completion_date DATE\n",
    ")\n",
    "AS\n",
    "BEGIN\n",
    "\n",
    "    DECLARE @totalLaborTime INT;\n",
    "    -- Check if department_number exists in the Process table\n",
    "    IF NOT EXISTS (SELECT 1 FROM Process WHERE department_number = @department_number)\n",
    "    BEGIN\n",
    "        PRINT 'No matching department_number found in the Process table.';\n",
    "        RETURN;\n",
    "    END;\n",
    "\n",
    "    -- Retrieve all process_ids associated with the given department_number\n",
    "    DECLARE @processIds TABLE (process_id INT);\n",
    "    INSERT INTO @processIds (process_id)\n",
    "    SELECT process_id\n",
    "    FROM Process\n",
    "    WHERE department_number = @department_number;\n",
    "\n",
    "    -- Check if there are matching process_ids in the Start_manufacturing table\n",
    "    IF NOT EXISTS (SELECT 1 FROM Start_manufacturing WHERE process_id IN (SELECT process_id FROM @processIds))\n",
    "    BEGIN\n",
    "        PRINT 'No matching process_ids found in the Start_manufacturing table for the specified department_number.';\n",
    "        RETURN;\n",
    "    END;\n",
    "\n",
    "    -- Calculate the total labor time for jobs completed on the given date\n",
    "    SELECT @totalLaborTime = ISNULL(SUM(FJ.labor_time), 0) + ISNULL(SUM(CJ.labor_time), 0) + ISNULL(SUM(PJ.labor_time), 0)\n",
    "    FROM Start_manufacturing SM\n",
    "    INNER JOIN Process P ON SM.process_id = P.process_id\n",
    "    LEFT JOIN Fit_job FJ ON SM.job_number = FJ.job_number\n",
    "    LEFT JOIN Cut_job CJ ON SM.job_number = CJ.job_number\n",
    "    LEFT JOIN Paint_job PJ ON SM.job_number = PJ.job_number\n",
    "    INNER JOIN Job J ON SM.job_number = J.job_number\n",
    "    WHERE P.department_number = @department_number\n",
    "    AND J.complete_date = @completion_date;\n",
    "    -- Output the total labor time as a result set\n",
    "    SELECT @totalLaborTime AS TotalLaborTime;\n",
    "END;\n"
   ]
  },
  {
   "cell_type": "code",
   "execution_count": 12,
   "metadata": {
    "azdata_cell_guid": "c33064a6-a86e-418f-af99-e621b79b5a25",
    "language": "sql"
   },
   "outputs": [
    {
     "data": {
      "text/html": [
       "Commands completed successfully."
      ]
     },
     "metadata": {},
     "output_type": "display_data"
    },
    {
     "data": {
      "text/html": [
       "Total execution time: 00:00:00.097"
      ]
     },
     "metadata": {},
     "output_type": "display_data"
    }
   ],
   "source": [
    "DROP PROCEDURE [RetrieveProcessesForAssembly]"
   ]
  },
  {
   "cell_type": "code",
   "execution_count": 14,
   "metadata": {
    "azdata_cell_guid": "cba7455a-cc71-471e-a9d4-e6aa0c873ab7",
    "language": "sql"
   },
   "outputs": [
    {
     "data": {
      "text/html": [
       "Commands completed successfully."
      ]
     },
     "metadata": {},
     "output_type": "display_data"
    },
    {
     "ename": "",
     "evalue": "Msg 2714, Level 16, State 3, Procedure RetrieveProcessesForAssembly, Line 1\r\nThere is already an object named 'RetrieveProcessesForAssembly' in the database.",
     "output_type": "error",
     "traceback": []
    },
    {
     "data": {
      "text/html": [
       "Total execution time: 00:00:00.111"
      ]
     },
     "metadata": {},
     "output_type": "display_data"
    }
   ],
   "source": [
    "-- Create the stored procedure for Query 11\n",
    "GO\n",
    "CREATE PROCEDURE RetrieveProcessesForAssembly(\n",
    "    @assembly_id INT\n",
    ")\n",
    "AS\n",
    "BEGIN\n",
    "    -- Declare variables to store results\n",
    "    DECLARE @process_id INT;\n",
    "    DECLARE @department_number INT;\n",
    "    \n",
    "    -- Create a temporary table to store intermediate results\n",
    "    CREATE TABLE #TempResults (\n",
    "        ProcessID INT,\n",
    "        DepartmentNumber INT,\n",
    "        CommencedDate DATE\n",
    "    );\n",
    "\n",
    "    -- Insert relevant data from Start_manufacturing into the temporary table\n",
    "    INSERT INTO #TempResults (ProcessID, DepartmentNumber, CommencedDate)\n",
    "    SELECT P.process_id, P.department_number, J.commenced_date\n",
    "    FROM Start_manufacturing SM\n",
    "    INNER JOIN Process P ON SM.process_id = P.process_id\n",
    "    INNER JOIN Job J ON SM.job_number = J.job_number\n",
    "    WHERE SM.assembly_id = @assembly_id;\n",
    "\n",
    "    -- Select the final result in the desired order\n",
    "    SELECT ProcessID, DepartmentNumber, CommencedDate\n",
    "    FROM #TempResults\n",
    "    ORDER BY CommencedDate;\n",
    "\n",
    "    -- Drop the temporary table\n",
    "    --DROP TABLE #TempResults;\n",
    "END;\n"
   ]
  },
  {
   "cell_type": "code",
   "execution_count": 61,
   "metadata": {
    "azdata_cell_guid": "083e079e-dba7-476b-b749-ade29fedf470",
    "language": "sql"
   },
   "outputs": [
    {
     "data": {
      "text/html": [
       "Commands completed successfully."
      ]
     },
     "metadata": {},
     "output_type": "display_data"
    },
    {
     "data": {
      "text/html": [
       "Commands completed successfully."
      ]
     },
     "metadata": {},
     "output_type": "display_data"
    },
    {
     "data": {
      "text/html": [
       "Total execution time: 00:00:00.115"
      ]
     },
     "metadata": {},
     "output_type": "display_data"
    }
   ],
   "source": [
    "-- Create the stored procedure for Query 12\n",
    "GO\n",
    "CREATE PROCEDURE RetrieveCustomerNamesByCategoryRange(\n",
    "    @min_category INT,\n",
    "    @max_category INT\n",
    ")\n",
    "AS\n",
    "BEGIN\n",
    "    -- Select customer names within the specified category range\n",
    "    SELECT customer_name\n",
    "    FROM Customer\n",
    "    WHERE category BETWEEN @min_category AND @max_category\n",
    "    ORDER BY customer_name;\n",
    "END;\n"
   ]
  },
  {
   "cell_type": "code",
   "execution_count": 24,
   "metadata": {
    "azdata_cell_guid": "ecb1b687-d5a4-42fe-9196-cb98e3e99aae",
    "language": "sql"
   },
   "outputs": [
    {
     "data": {
      "text/html": [
       "Commands completed successfully."
      ]
     },
     "metadata": {},
     "output_type": "display_data"
    },
    {
     "data": {
      "text/html": [
       "Commands completed successfully."
      ]
     },
     "metadata": {},
     "output_type": "display_data"
    },
    {
     "data": {
      "text/html": [
       "Total execution time: 00:00:00.089"
      ]
     },
     "metadata": {},
     "output_type": "display_data"
    }
   ],
   "source": [
    "-- Create the stored procedure for Query 13\n",
    "GO\n",
    "CREATE PROCEDURE DeleteCutJobsByJobNumberRange(\n",
    "    @min_job_number INT,\n",
    "    @max_job_number INT\n",
    ")\n",
    "AS\n",
    "BEGIN\n",
    "    -- Delete cut-jobs within the specified job number range\n",
    "    DELETE FROM Cut_job\n",
    "    WHERE job_number BETWEEN @min_job_number AND @max_job_number;\n",
    "    \n",
    "\n",
    "END;\n"
   ]
  },
  {
   "cell_type": "code",
   "execution_count": 63,
   "metadata": {
    "azdata_cell_guid": "6783fd64-08e8-4850-ae4f-4317dbbfef7c",
    "language": "sql"
   },
   "outputs": [
    {
     "data": {
      "text/html": [
       "Commands completed successfully."
      ]
     },
     "metadata": {},
     "output_type": "display_data"
    },
    {
     "data": {
      "text/html": [
       "Commands completed successfully."
      ]
     },
     "metadata": {},
     "output_type": "display_data"
    },
    {
     "data": {
      "text/html": [
       "Total execution time: 00:00:00.121"
      ]
     },
     "metadata": {},
     "output_type": "display_data"
    }
   ],
   "source": [
    "-- Create the stored procedure for Query 14\n",
    "GO\n",
    "CREATE PROCEDURE UpdatePaintJobColor(\n",
    "    @job_number INT,\n",
    "    @new_color VARCHAR(50)\n",
    ")\n",
    "AS\n",
    "BEGIN\n",
    "    -- Update the color of the specified paint job\n",
    "    UPDATE Paint_job\n",
    "    SET color = @new_color\n",
    "    WHERE job_number = @job_number;\n",
    "END;\n"
   ]
  }
 ],
 "metadata": {
  "kernelspec": {
   "display_name": "Python 3 (ipykernel)",
   "language": "python",
   "name": "python3"
  },
  "language_info": {
   "codemirror_mode": {
    "name": "ipython",
    "version": 3
   },
   "file_extension": ".py",
   "mimetype": "text/x-python",
   "name": "python",
   "nbconvert_exporter": "python",
   "pygments_lexer": "ipython3",
   "version": "3.11.5"
  }
 },
 "nbformat": 4,
 "nbformat_minor": 4
}
