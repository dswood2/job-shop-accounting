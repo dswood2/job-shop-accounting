{
 "cells": [
  {
   "cell_type": "code",
   "execution_count": 1,
   "metadata": {
    "ExecuteTime": {
     "end_time": "2024-06-19T04:15:58.115744700Z",
     "start_time": "2024-06-19T04:15:58.099053800Z"
    },
    "azdata_cell_guid": "c6f94c31-09df-4b35-8853-0dc18e38e692",
    "language": "sql"
   },
   "outputs": [
    {
     "ename": "SyntaxError",
     "evalue": "invalid syntax (1207874427.py, line 1)",
     "output_type": "error",
     "traceback": [
      "\u001b[1;36m  Cell \u001b[1;32mIn[1], line 1\u001b[1;36m\u001b[0m\n\u001b[1;33m    -- Drop tables in reverse order\u001b[0m\n\u001b[1;37m            ^\u001b[0m\n\u001b[1;31mSyntaxError\u001b[0m\u001b[1;31m:\u001b[0m invalid syntax\n"
     ]
    }
   ],
   "source": [
    "-- Drop tables in reverse order\n",
    "DROP TABLE IF EXISTS Transactions;\n",
    "DROP TABLE IF EXISTS Start_manufacturing;\n",
    "DROP TABLE IF EXISTS P_has;\n",
    "DROP TABLE IF EXISTS D_has;\n",
    "DROP TABLE IF EXISTS A_has;\n",
    "DROP TABLE IF EXISTS Cut_job;\n",
    "DROP TABLE IF EXISTS Fit_job;\n",
    "DROP TABLE IF EXISTS Paint_job;\n",
    "DROP TABLE IF EXISTS Cut_process;\n",
    "DROP TABLE IF EXISTS Fit_process;\n",
    "DROP TABLE IF EXISTS Paint_process;\n",
    "DROP TABLE IF EXISTS Process_account;\n",
    "DROP TABLE IF EXISTS Department_account;\n",
    "DROP TABLE IF EXISTS Assembly_account;\n",
    "DROP TABLE IF EXISTS Job;\n",
    "DROP TABLE IF EXISTS Process;\n",
    "DROP TABLE IF EXISTS Assembly;\n",
    "DROP TABLE IF EXISTS Customer;\n",
    "DROP TABLE IF EXISTS Department;\n"
   ]
  },
  {
   "cell_type": "code",
   "execution_count": 45,
   "metadata": {
    "azdata_cell_guid": "cf916089-c937-4ee7-9e89-09c832310161",
    "language": "sql"
   },
   "outputs": [
    {
     "data": {
      "text/html": [
       "Commands completed successfully."
      ]
     },
     "metadata": {},
     "output_type": "display_data"
    },
    {
     "data": {
      "text/html": [
       "Total execution time: 00:00:00.059"
      ]
     },
     "metadata": {},
     "output_type": "display_data"
    }
   ],
   "source": [
    "-- Department table with a primary key constraint\n",
    "CREATE TABLE Department (\n",
    "    department_number INT PRIMARY KEY,\n",
    "    department_data VARCHAR(50)\n",
    ");"
   ]
  },
  {
   "cell_type": "code",
   "execution_count": 46,
   "metadata": {
    "azdata_cell_guid": "770cad4c-99b1-43db-b8ba-3246e95e6819",
    "language": "sql"
   },
   "outputs": [
    {
     "data": {
      "text/html": [
       "Commands completed successfully."
      ]
     },
     "metadata": {},
     "output_type": "display_data"
    },
    {
     "data": {
      "text/html": [
       "Total execution time: 00:00:00.060"
      ]
     },
     "metadata": {},
     "output_type": "display_data"
    }
   ],
   "source": [
    "-- Customer table with a primary key constraint\n",
    "CREATE TABLE Customer (\n",
    "    customer_name VARCHAR(50) PRIMARY KEY,\n",
    "    customer_address VARCHAR(50), \n",
    "    category INT CHECK (category BETWEEN 1 and 10)\n",
    ");"
   ]
  },
  {
   "cell_type": "code",
   "execution_count": 47,
   "metadata": {
    "azdata_cell_guid": "dbc16d1b-b31f-49c9-a450-b61a95b011e5",
    "language": "sql"
   },
   "outputs": [
    {
     "data": {
      "text/html": [
       "Commands completed successfully."
      ]
     },
     "metadata": {},
     "output_type": "display_data"
    },
    {
     "data": {
      "text/html": [
       "Total execution time: 00:00:00.067"
      ]
     },
     "metadata": {},
     "output_type": "display_data"
    }
   ],
   "source": [
    "-- Assembly table with a primary key constraint\n",
    "CREATE TABLE Assembly (\n",
    "    assembly_id INT PRIMARY KEY,\n",
    "    date_ordered DATE,\n",
    "    assembly_details VARCHAR(50),\n",
    "    customer_name VARCHAR(50),\n",
    "    CONSTRAINT FK_Customer FOREIGN KEY (customer_name) REFERENCES Customer(customer_name)\n",
    ");"
   ]
  },
  {
   "cell_type": "code",
   "execution_count": 48,
   "metadata": {
    "azdata_cell_guid": "6076711a-5776-475b-bca5-e86f115f6b03",
    "language": "sql"
   },
   "outputs": [
    {
     "data": {
      "text/html": [
       "Commands completed successfully."
      ]
     },
     "metadata": {},
     "output_type": "display_data"
    },
    {
     "data": {
      "text/html": [
       "Total execution time: 00:00:00.063"
      ]
     },
     "metadata": {},
     "output_type": "display_data"
    }
   ],
   "source": [
    "-- Process table with a primary key constraint\n",
    "CREATE TABLE Process (\n",
    "    process_id INT PRIMARY KEY,\n",
    "    process_data VARCHAR(50),\n",
    "    department_number INT,\n",
    "    CONSTRAINT FK_Department FOREIGN KEY (department_number) REFERENCES Department(department_number)\n",
    ");"
   ]
  },
  {
   "cell_type": "code",
   "execution_count": 49,
   "metadata": {
    "azdata_cell_guid": "9a57eea0-a9cc-478f-a74c-f58cb9193d26",
    "language": "sql"
   },
   "outputs": [
    {
     "data": {
      "text/html": [
       "Commands completed successfully."
      ]
     },
     "metadata": {},
     "output_type": "display_data"
    },
    {
     "data": {
      "text/html": [
       "Total execution time: 00:00:00.059"
      ]
     },
     "metadata": {},
     "output_type": "display_data"
    }
   ],
   "source": [
    "-- Job table with a primary key constraint\n",
    "CREATE TABLE Job (\n",
    "    job_number INT PRIMARY KEY,\n",
    "    commenced_date DATE,\n",
    "    complete_date DATE,\n",
    "    job_detail VARCHAR(50)\n",
    ");"
   ]
  },
  {
   "cell_type": "code",
   "execution_count": 50,
   "metadata": {
    "azdata_cell_guid": "ec4bffff-3f3e-4b98-9e98-26ba94424a52",
    "language": "sql"
   },
   "outputs": [
    {
     "data": {
      "text/html": [
       "Commands completed successfully."
      ]
     },
     "metadata": {},
     "output_type": "display_data"
    },
    {
     "data": {
      "text/html": [
       "Total execution time: 00:00:00.065"
      ]
     },
     "metadata": {},
     "output_type": "display_data"
    }
   ],
   "source": [
    "-- Assembly_account table with a primary key constraint\n",
    "CREATE TABLE Assembly_account (\n",
    "    account_number INT PRIMARY KEY,\n",
    "    date_created DATE,\n",
    "    details_1 FLOAT\n",
    ");"
   ]
  },
  {
   "cell_type": "code",
   "execution_count": 51,
   "metadata": {
    "azdata_cell_guid": "303ad989-fb9a-4365-a0c5-4ccdb1b6230f",
    "language": "sql"
   },
   "outputs": [
    {
     "data": {
      "text/html": [
       "Commands completed successfully."
      ]
     },
     "metadata": {},
     "output_type": "display_data"
    },
    {
     "data": {
      "text/html": [
       "Total execution time: 00:00:00.059"
      ]
     },
     "metadata": {},
     "output_type": "display_data"
    }
   ],
   "source": [
    "-- Department_account table with a primary key constraint\n",
    "CREATE TABLE Department_account (\n",
    "    account_number INT PRIMARY KEY,\n",
    "    date_created DATE,\n",
    "    details_2 FLOAT\n",
    ");"
   ]
  },
  {
   "cell_type": "code",
   "execution_count": 52,
   "metadata": {
    "azdata_cell_guid": "88bbb9da-d513-40e2-8b21-ba749a53bd36",
    "language": "sql"
   },
   "outputs": [
    {
     "data": {
      "text/html": [
       "Commands completed successfully."
      ]
     },
     "metadata": {},
     "output_type": "display_data"
    },
    {
     "data": {
      "text/html": [
       "Total execution time: 00:00:00.079"
      ]
     },
     "metadata": {},
     "output_type": "display_data"
    }
   ],
   "source": [
    "-- Process_account table with a primary key constraint\n",
    "CREATE TABLE Process_account (\n",
    "    account_number INT PRIMARY KEY,\n",
    "    date_created DATE,\n",
    "    details_3 FLOAT\n",
    ");"
   ]
  },
  {
   "cell_type": "code",
   "execution_count": 53,
   "metadata": {
    "azdata_cell_guid": "4ebd368a-eca6-4276-9d16-380210484ed2",
    "language": "sql"
   },
   "outputs": [
    {
     "data": {
      "text/html": [
       "Commands completed successfully."
      ]
     },
     "metadata": {},
     "output_type": "display_data"
    },
    {
     "data": {
      "text/html": [
       "Total execution time: 00:00:00.061"
      ]
     },
     "metadata": {},
     "output_type": "display_data"
    }
   ],
   "source": [
    "-- Paint_process table with a primary key constraint\n",
    "CREATE TABLE Paint_process (\n",
    "    process_id INT PRIMARY KEY,\n",
    "    paint_type VARCHAR(50),\n",
    "    painting_method VARCHAR(50),\n",
    "    CONSTRAINT FK_PaintProcess_ID FOREIGN KEY (process_id) REFERENCES Process(process_id)\n",
    ");"
   ]
  },
  {
   "cell_type": "code",
   "execution_count": 54,
   "metadata": {
    "azdata_cell_guid": "17a5d020-be12-4033-ace8-76a0b414e4df",
    "language": "sql"
   },
   "outputs": [
    {
     "data": {
      "text/html": [
       "Commands completed successfully."
      ]
     },
     "metadata": {},
     "output_type": "display_data"
    },
    {
     "data": {
      "text/html": [
       "Total execution time: 00:00:00.089"
      ]
     },
     "metadata": {},
     "output_type": "display_data"
    }
   ],
   "source": [
    "-- Fit_process table with a primary key constraint\n",
    "CREATE TABLE Fit_process (\n",
    "    process_id INT PRIMARY KEY,\n",
    "    fit_type VARCHAR(50),\n",
    "    CONSTRAINT FK_FitProcess_ID FOREIGN KEY (process_id) REFERENCES Process(process_id)\n",
    ");"
   ]
  },
  {
   "cell_type": "code",
   "execution_count": 55,
   "metadata": {
    "azdata_cell_guid": "54a3fe03-81dd-4cde-a7a8-afa18e7e69c3",
    "language": "sql"
   },
   "outputs": [
    {
     "data": {
      "text/html": [
       "Commands completed successfully."
      ]
     },
     "metadata": {},
     "output_type": "display_data"
    },
    {
     "data": {
      "text/html": [
       "Total execution time: 00:00:00.086"
      ]
     },
     "metadata": {},
     "output_type": "display_data"
    }
   ],
   "source": [
    "-- Cut_process table with a primary key constraint\n",
    "CREATE TABLE Cut_process (\n",
    "    process_id INT PRIMARY KEY,\n",
    "    cutting_type VARCHAR(50),\n",
    "    machine_type VARCHAR(50),\n",
    "    CONSTRAINT FK_CutProcess_ID FOREIGN KEY (process_id) REFERENCES Process(process_id)\n",
    ");"
   ]
  },
  {
   "cell_type": "code",
   "execution_count": 56,
   "metadata": {
    "azdata_cell_guid": "fb474d03-6976-45c0-b8bf-eb60ec6100e2",
    "language": "sql"
   },
   "outputs": [
    {
     "data": {
      "text/html": [
       "Commands completed successfully."
      ]
     },
     "metadata": {},
     "output_type": "display_data"
    },
    {
     "data": {
      "text/html": [
       "Total execution time: 00:00:00.061"
      ]
     },
     "metadata": {},
     "output_type": "display_data"
    }
   ],
   "source": [
    "-- Paint_job table with a primary key constraint\n",
    "CREATE TABLE Paint_job (\n",
    "    job_number INT PRIMARY KEY,\n",
    "    color VARCHAR(50),\n",
    "    volume INT, \n",
    "    labor_time INT,\n",
    "    CONSTRAINT FK_PaintJob_Number FOREIGN KEY (job_number) REFERENCES Job(job_number)\n",
    ");"
   ]
  },
  {
   "cell_type": "code",
   "execution_count": 57,
   "metadata": {
    "azdata_cell_guid": "b9cc366d-a8e2-49fc-b025-a29baa6d2314",
    "language": "sql"
   },
   "outputs": [
    {
     "data": {
      "text/html": [
       "Commands completed successfully."
      ]
     },
     "metadata": {},
     "output_type": "display_data"
    },
    {
     "data": {
      "text/html": [
       "Total execution time: 00:00:00.055"
      ]
     },
     "metadata": {},
     "output_type": "display_data"
    }
   ],
   "source": [
    "-- Fit_job table with a primary key constraint\n",
    "CREATE TABLE Fit_job (\n",
    "    job_number INT PRIMARY KEY, \n",
    "    labor_time INT,\n",
    "    CONSTRAINT FK_FitJob_Number FOREIGN KEY (job_number) REFERENCES Job(job_number)\n",
    ");"
   ]
  },
  {
   "cell_type": "code",
   "execution_count": 58,
   "metadata": {
    "azdata_cell_guid": "8934eeb0-ce85-42fe-9fdd-06d3c33b0448",
    "language": "sql"
   },
   "outputs": [
    {
     "data": {
      "text/html": [
       "Commands completed successfully."
      ]
     },
     "metadata": {},
     "output_type": "display_data"
    },
    {
     "data": {
      "text/html": [
       "Total execution time: 00:00:00.065"
      ]
     },
     "metadata": {},
     "output_type": "display_data"
    }
   ],
   "source": [
    "-- Cut_job table with a primary key constraint\n",
    "CREATE TABLE Cut_job (\n",
    "    job_number INT PRIMARY KEY,\n",
    "    type_of_machine VARCHAR(50),\n",
    "    time_used INT,\n",
    "    material_used VARCHAR(50),\n",
    "    labor_time INT,\n",
    "    CONSTRAINT FK_CutJob_Number FOREIGN KEY (job_number) REFERENCES Job(job_number)\n",
    ");"
   ]
  },
  {
   "cell_type": "code",
   "execution_count": 59,
   "metadata": {
    "azdata_cell_guid": "26f811d0-dde0-416b-b95f-2ae0b0fc1840",
    "language": "sql"
   },
   "outputs": [
    {
     "data": {
      "text/html": [
       "Commands completed successfully."
      ]
     },
     "metadata": {},
     "output_type": "display_data"
    },
    {
     "data": {
      "text/html": [
       "Total execution time: 00:00:00.061"
      ]
     },
     "metadata": {},
     "output_type": "display_data"
    }
   ],
   "source": [
    "-- A_has table with a primary key constraint\n",
    "CREATE TABLE A_has (\n",
    "    account_number INT PRIMARY KEY,\n",
    "    assembly_id INT,\n",
    "    CONSTRAINT FK_A_has_Assembly FOREIGN KEY (assembly_id) REFERENCES Assembly(assembly_id),\n",
    "    CONSTRAINT FK_A_has_AssemblyAccount FOREIGN KEY (account_number) REFERENCES Assembly_account(account_number)\n",
    ");"
   ]
  },
  {
   "cell_type": "code",
   "execution_count": 60,
   "metadata": {
    "azdata_cell_guid": "cf949ad0-0b45-4036-9c13-65f4eff746d4",
    "language": "sql"
   },
   "outputs": [
    {
     "data": {
      "text/html": [
       "Commands completed successfully."
      ]
     },
     "metadata": {},
     "output_type": "display_data"
    },
    {
     "data": {
      "text/html": [
       "Total execution time: 00:00:00.057"
      ]
     },
     "metadata": {},
     "output_type": "display_data"
    }
   ],
   "source": [
    "-- D_has table with a primary key constraint\n",
    "CREATE TABLE D_has (\n",
    "    account_number INT PRIMARY KEY,\n",
    "    department_number INT,\n",
    "    CONSTRAINT FK_D_has_Department FOREIGN KEY (department_number) REFERENCES Department(department_number),\n",
    "    CONSTRAINT FK_D_has_DepartmentAccount FOREIGN KEY (account_number) REFERENCES Department_account(account_number)\n",
    ");"
   ]
  },
  {
   "cell_type": "code",
   "execution_count": 61,
   "metadata": {
    "azdata_cell_guid": "b415b261-1b3b-4f31-9950-a0a96d0346cb",
    "language": "sql"
   },
   "outputs": [
    {
     "data": {
      "text/html": [
       "Commands completed successfully."
      ]
     },
     "metadata": {},
     "output_type": "display_data"
    },
    {
     "data": {
      "text/html": [
       "Total execution time: 00:00:00.065"
      ]
     },
     "metadata": {},
     "output_type": "display_data"
    }
   ],
   "source": [
    "-- P_has table with a primary key constraint\n",
    "CREATE TABLE P_has (\n",
    "    account_number INT PRIMARY KEY,\n",
    "    process_id INT,\n",
    "    CONSTRAINT FK_P_has_Process FOREIGN KEY (process_id) REFERENCES Process(process_id),\n",
    "    CONSTRAINT FK_P_has_ProcessAccount FOREIGN KEY (account_number) REFERENCES Process_account(account_number)\n",
    ");"
   ]
  },
  {
   "cell_type": "code",
   "execution_count": 62,
   "metadata": {
    "azdata_cell_guid": "75f609ec-e305-463c-ab1c-446f45c57880",
    "language": "sql"
   },
   "outputs": [
    {
     "data": {
      "text/html": [
       "Commands completed successfully."
      ]
     },
     "metadata": {},
     "output_type": "display_data"
    },
    {
     "data": {
      "text/html": [
       "Total execution time: 00:00:00.059"
      ]
     },
     "metadata": {},
     "output_type": "display_data"
    }
   ],
   "source": [
    "-- Start_manufacturing table with a primary key constraint\n",
    "CREATE TABLE Start_manufacturing (\n",
    "    assembly_id INT,\n",
    "    job_number INT,\n",
    "    process_id INT,\n",
    "    PRIMARY KEY (assembly_id, process_id),\n",
    "    CONSTRAINT FK_StartManufacturing_Assembly FOREIGN KEY (assembly_id) REFERENCES Assembly(assembly_id),\n",
    "    CONSTRAINT FK_StartManufacturing_Job FOREIGN KEY (job_number) REFERENCES Job(job_number),\n",
    "    CONSTRAINT FK_StartManufacturing_Process FOREIGN KEY (process_id) REFERENCES Process(process_id)\n",
    ");"
   ]
  },
  {
   "cell_type": "code",
   "execution_count": 63,
   "metadata": {
    "azdata_cell_guid": "02252fe1-e61f-4be4-91fa-71b58aa487aa",
    "language": "sql"
   },
   "outputs": [
    {
     "data": {
      "text/html": [
       "Commands completed successfully."
      ]
     },
     "metadata": {},
     "output_type": "display_data"
    },
    {
     "data": {
      "text/html": [
       "Total execution time: 00:00:00.071"
      ]
     },
     "metadata": {},
     "output_type": "display_data"
    }
   ],
   "source": [
    "-- Transaction table with a primary key constraint\n",
    "CREATE TABLE Transactions(\n",
    "    transaction_id INT PRIMARY KEY,\n",
    "    transaction_cost FLOAT,\n",
    "    job_number INT,\n",
    "    assembly_account_number INT,\n",
    "    process_account_number INT,\n",
    "    department_account_number INT,\n",
    "    --\n",
    "    CONSTRAINT FK_Transaction_Job FOREIGN KEY (job_number) REFERENCES Job(job_number),\n",
    "    --\n",
    "    CONSTRAINT FK_Transaction_AssemblyAccount FOREIGN KEY (assembly_account_number) REFERENCES Assembly_account(account_number),\n",
    "    CONSTRAINT FK_Transaction_ProcessAccount FOREIGN KEY (process_account_number) REFERENCES Process_account(account_number),\n",
    "    CONSTRAINT FK_Transaction_DepartmentAccount FOREIGN KEY (department_account_number) REFERENCES Department_account(account_number)\n",
    "    --\n",
    ");\n"
   ]
  },
  {
   "cell_type": "code",
   "execution_count": 1,
   "metadata": {
    "azdata_cell_guid": "23db3cd6-6cc5-4b39-9f86-a8ebb1d0de46",
    "language": "sql"
   },
   "outputs": [
    {
     "data": {
      "text/html": [
       "Commands completed successfully."
      ]
     },
     "metadata": {},
     "output_type": "display_data"
    },
    {
     "data": {
      "text/html": [
       "Total execution time: 00:00:00.090"
      ]
     },
     "metadata": {},
     "output_type": "display_data"
    }
   ],
   "source": [
    "CREATE INDEX customer_category ON Customer(category)"
   ]
  }
 ],
 "metadata": {
  "kernelspec": {
   "display_name": "Python 3 (ipykernel)",
   "language": "python",
   "name": "python3"
  },
  "language_info": {
   "codemirror_mode": {
    "name": "ipython",
    "version": 3
   },
   "file_extension": ".py",
   "mimetype": "text/x-python",
   "name": "python",
   "nbconvert_exporter": "python",
   "pygments_lexer": "ipython3",
   "version": "3.11.5"
  }
 },
 "nbformat": 4,
 "nbformat_minor": 4
}
